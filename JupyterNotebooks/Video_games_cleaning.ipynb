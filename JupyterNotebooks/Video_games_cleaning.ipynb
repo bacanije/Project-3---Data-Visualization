{
 "cells": [
  {
   "cell_type": "code",
   "execution_count": 1,
   "id": "2267665b",
   "metadata": {},
   "outputs": [],
   "source": [
    "import pandas as pd\n",
    "from ast import literal_eval\n",
    "import numpy as np\n",
    "import matplotlib.pyplot as plt\n",
    "import plotly.graph_objects as go\n",
    "import plotly.express as px"
   ]
  },
  {
   "cell_type": "code",
   "execution_count": 4,
   "id": "f5aafea8",
   "metadata": {
    "scrolled": false
   },
   "outputs": [
    {
     "ename": "FileNotFoundError",
     "evalue": "[Errno 2] No such file or directory: 'Resources/startercsv/all_video_games(cleaned).csv'",
     "output_type": "error",
     "traceback": [
      "\u001b[0;31m---------------------------------------------------------------------------\u001b[0m",
      "\u001b[0;31mFileNotFoundError\u001b[0m                         Traceback (most recent call last)",
      "Cell \u001b[0;32mIn[4], line 1\u001b[0m\n\u001b[0;32m----> 1\u001b[0m games_df \u001b[38;5;241m=\u001b[39m \u001b[43mpd\u001b[49m\u001b[38;5;241;43m.\u001b[39;49m\u001b[43mread_csv\u001b[49m\u001b[43m(\u001b[49m\u001b[38;5;124;43m\"\u001b[39;49m\u001b[38;5;124;43mResources/startercsv/all_video_games(cleaned).csv\u001b[39;49m\u001b[38;5;124;43m\"\u001b[39;49m\u001b[43m,\u001b[49m\u001b[43m \u001b[49m\u001b[43mconverters\u001b[49m\u001b[38;5;241;43m=\u001b[39;49m\u001b[43m{\u001b[49m\u001b[38;5;124;43m'\u001b[39;49m\u001b[38;5;124;43mPlatforms Info\u001b[39;49m\u001b[38;5;124;43m'\u001b[39;49m\u001b[43m:\u001b[49m\u001b[43m \u001b[49m\u001b[43mliteral_eval\u001b[49m\u001b[43m}\u001b[49m\u001b[43m)\u001b[49m\n\u001b[1;32m      2\u001b[0m games_df\n",
      "File \u001b[0;32m~/anaconda3/envs/dev/lib/python3.10/site-packages/pandas/io/parsers/readers.py:912\u001b[0m, in \u001b[0;36mread_csv\u001b[0;34m(filepath_or_buffer, sep, delimiter, header, names, index_col, usecols, dtype, engine, converters, true_values, false_values, skipinitialspace, skiprows, skipfooter, nrows, na_values, keep_default_na, na_filter, verbose, skip_blank_lines, parse_dates, infer_datetime_format, keep_date_col, date_parser, date_format, dayfirst, cache_dates, iterator, chunksize, compression, thousands, decimal, lineterminator, quotechar, quoting, doublequote, escapechar, comment, encoding, encoding_errors, dialect, on_bad_lines, delim_whitespace, low_memory, memory_map, float_precision, storage_options, dtype_backend)\u001b[0m\n\u001b[1;32m    899\u001b[0m kwds_defaults \u001b[38;5;241m=\u001b[39m _refine_defaults_read(\n\u001b[1;32m    900\u001b[0m     dialect,\n\u001b[1;32m    901\u001b[0m     delimiter,\n\u001b[0;32m   (...)\u001b[0m\n\u001b[1;32m    908\u001b[0m     dtype_backend\u001b[38;5;241m=\u001b[39mdtype_backend,\n\u001b[1;32m    909\u001b[0m )\n\u001b[1;32m    910\u001b[0m kwds\u001b[38;5;241m.\u001b[39mupdate(kwds_defaults)\n\u001b[0;32m--> 912\u001b[0m \u001b[38;5;28;01mreturn\u001b[39;00m \u001b[43m_read\u001b[49m\u001b[43m(\u001b[49m\u001b[43mfilepath_or_buffer\u001b[49m\u001b[43m,\u001b[49m\u001b[43m \u001b[49m\u001b[43mkwds\u001b[49m\u001b[43m)\u001b[49m\n",
      "File \u001b[0;32m~/anaconda3/envs/dev/lib/python3.10/site-packages/pandas/io/parsers/readers.py:577\u001b[0m, in \u001b[0;36m_read\u001b[0;34m(filepath_or_buffer, kwds)\u001b[0m\n\u001b[1;32m    574\u001b[0m _validate_names(kwds\u001b[38;5;241m.\u001b[39mget(\u001b[38;5;124m\"\u001b[39m\u001b[38;5;124mnames\u001b[39m\u001b[38;5;124m\"\u001b[39m, \u001b[38;5;28;01mNone\u001b[39;00m))\n\u001b[1;32m    576\u001b[0m \u001b[38;5;66;03m# Create the parser.\u001b[39;00m\n\u001b[0;32m--> 577\u001b[0m parser \u001b[38;5;241m=\u001b[39m \u001b[43mTextFileReader\u001b[49m\u001b[43m(\u001b[49m\u001b[43mfilepath_or_buffer\u001b[49m\u001b[43m,\u001b[49m\u001b[43m \u001b[49m\u001b[38;5;241;43m*\u001b[39;49m\u001b[38;5;241;43m*\u001b[39;49m\u001b[43mkwds\u001b[49m\u001b[43m)\u001b[49m\n\u001b[1;32m    579\u001b[0m \u001b[38;5;28;01mif\u001b[39;00m chunksize \u001b[38;5;129;01mor\u001b[39;00m iterator:\n\u001b[1;32m    580\u001b[0m     \u001b[38;5;28;01mreturn\u001b[39;00m parser\n",
      "File \u001b[0;32m~/anaconda3/envs/dev/lib/python3.10/site-packages/pandas/io/parsers/readers.py:1407\u001b[0m, in \u001b[0;36mTextFileReader.__init__\u001b[0;34m(self, f, engine, **kwds)\u001b[0m\n\u001b[1;32m   1404\u001b[0m     \u001b[38;5;28mself\u001b[39m\u001b[38;5;241m.\u001b[39moptions[\u001b[38;5;124m\"\u001b[39m\u001b[38;5;124mhas_index_names\u001b[39m\u001b[38;5;124m\"\u001b[39m] \u001b[38;5;241m=\u001b[39m kwds[\u001b[38;5;124m\"\u001b[39m\u001b[38;5;124mhas_index_names\u001b[39m\u001b[38;5;124m\"\u001b[39m]\n\u001b[1;32m   1406\u001b[0m \u001b[38;5;28mself\u001b[39m\u001b[38;5;241m.\u001b[39mhandles: IOHandles \u001b[38;5;241m|\u001b[39m \u001b[38;5;28;01mNone\u001b[39;00m \u001b[38;5;241m=\u001b[39m \u001b[38;5;28;01mNone\u001b[39;00m\n\u001b[0;32m-> 1407\u001b[0m \u001b[38;5;28mself\u001b[39m\u001b[38;5;241m.\u001b[39m_engine \u001b[38;5;241m=\u001b[39m \u001b[38;5;28;43mself\u001b[39;49m\u001b[38;5;241;43m.\u001b[39;49m\u001b[43m_make_engine\u001b[49m\u001b[43m(\u001b[49m\u001b[43mf\u001b[49m\u001b[43m,\u001b[49m\u001b[43m \u001b[49m\u001b[38;5;28;43mself\u001b[39;49m\u001b[38;5;241;43m.\u001b[39;49m\u001b[43mengine\u001b[49m\u001b[43m)\u001b[49m\n",
      "File \u001b[0;32m~/anaconda3/envs/dev/lib/python3.10/site-packages/pandas/io/parsers/readers.py:1661\u001b[0m, in \u001b[0;36mTextFileReader._make_engine\u001b[0;34m(self, f, engine)\u001b[0m\n\u001b[1;32m   1659\u001b[0m     \u001b[38;5;28;01mif\u001b[39;00m \u001b[38;5;124m\"\u001b[39m\u001b[38;5;124mb\u001b[39m\u001b[38;5;124m\"\u001b[39m \u001b[38;5;129;01mnot\u001b[39;00m \u001b[38;5;129;01min\u001b[39;00m mode:\n\u001b[1;32m   1660\u001b[0m         mode \u001b[38;5;241m+\u001b[39m\u001b[38;5;241m=\u001b[39m \u001b[38;5;124m\"\u001b[39m\u001b[38;5;124mb\u001b[39m\u001b[38;5;124m\"\u001b[39m\n\u001b[0;32m-> 1661\u001b[0m \u001b[38;5;28mself\u001b[39m\u001b[38;5;241m.\u001b[39mhandles \u001b[38;5;241m=\u001b[39m \u001b[43mget_handle\u001b[49m\u001b[43m(\u001b[49m\n\u001b[1;32m   1662\u001b[0m \u001b[43m    \u001b[49m\u001b[43mf\u001b[49m\u001b[43m,\u001b[49m\n\u001b[1;32m   1663\u001b[0m \u001b[43m    \u001b[49m\u001b[43mmode\u001b[49m\u001b[43m,\u001b[49m\n\u001b[1;32m   1664\u001b[0m \u001b[43m    \u001b[49m\u001b[43mencoding\u001b[49m\u001b[38;5;241;43m=\u001b[39;49m\u001b[38;5;28;43mself\u001b[39;49m\u001b[38;5;241;43m.\u001b[39;49m\u001b[43moptions\u001b[49m\u001b[38;5;241;43m.\u001b[39;49m\u001b[43mget\u001b[49m\u001b[43m(\u001b[49m\u001b[38;5;124;43m\"\u001b[39;49m\u001b[38;5;124;43mencoding\u001b[39;49m\u001b[38;5;124;43m\"\u001b[39;49m\u001b[43m,\u001b[49m\u001b[43m \u001b[49m\u001b[38;5;28;43;01mNone\u001b[39;49;00m\u001b[43m)\u001b[49m\u001b[43m,\u001b[49m\n\u001b[1;32m   1665\u001b[0m \u001b[43m    \u001b[49m\u001b[43mcompression\u001b[49m\u001b[38;5;241;43m=\u001b[39;49m\u001b[38;5;28;43mself\u001b[39;49m\u001b[38;5;241;43m.\u001b[39;49m\u001b[43moptions\u001b[49m\u001b[38;5;241;43m.\u001b[39;49m\u001b[43mget\u001b[49m\u001b[43m(\u001b[49m\u001b[38;5;124;43m\"\u001b[39;49m\u001b[38;5;124;43mcompression\u001b[39;49m\u001b[38;5;124;43m\"\u001b[39;49m\u001b[43m,\u001b[49m\u001b[43m \u001b[49m\u001b[38;5;28;43;01mNone\u001b[39;49;00m\u001b[43m)\u001b[49m\u001b[43m,\u001b[49m\n\u001b[1;32m   1666\u001b[0m \u001b[43m    \u001b[49m\u001b[43mmemory_map\u001b[49m\u001b[38;5;241;43m=\u001b[39;49m\u001b[38;5;28;43mself\u001b[39;49m\u001b[38;5;241;43m.\u001b[39;49m\u001b[43moptions\u001b[49m\u001b[38;5;241;43m.\u001b[39;49m\u001b[43mget\u001b[49m\u001b[43m(\u001b[49m\u001b[38;5;124;43m\"\u001b[39;49m\u001b[38;5;124;43mmemory_map\u001b[39;49m\u001b[38;5;124;43m\"\u001b[39;49m\u001b[43m,\u001b[49m\u001b[43m \u001b[49m\u001b[38;5;28;43;01mFalse\u001b[39;49;00m\u001b[43m)\u001b[49m\u001b[43m,\u001b[49m\n\u001b[1;32m   1667\u001b[0m \u001b[43m    \u001b[49m\u001b[43mis_text\u001b[49m\u001b[38;5;241;43m=\u001b[39;49m\u001b[43mis_text\u001b[49m\u001b[43m,\u001b[49m\n\u001b[1;32m   1668\u001b[0m \u001b[43m    \u001b[49m\u001b[43merrors\u001b[49m\u001b[38;5;241;43m=\u001b[39;49m\u001b[38;5;28;43mself\u001b[39;49m\u001b[38;5;241;43m.\u001b[39;49m\u001b[43moptions\u001b[49m\u001b[38;5;241;43m.\u001b[39;49m\u001b[43mget\u001b[49m\u001b[43m(\u001b[49m\u001b[38;5;124;43m\"\u001b[39;49m\u001b[38;5;124;43mencoding_errors\u001b[39;49m\u001b[38;5;124;43m\"\u001b[39;49m\u001b[43m,\u001b[49m\u001b[43m \u001b[49m\u001b[38;5;124;43m\"\u001b[39;49m\u001b[38;5;124;43mstrict\u001b[39;49m\u001b[38;5;124;43m\"\u001b[39;49m\u001b[43m)\u001b[49m\u001b[43m,\u001b[49m\n\u001b[1;32m   1669\u001b[0m \u001b[43m    \u001b[49m\u001b[43mstorage_options\u001b[49m\u001b[38;5;241;43m=\u001b[39;49m\u001b[38;5;28;43mself\u001b[39;49m\u001b[38;5;241;43m.\u001b[39;49m\u001b[43moptions\u001b[49m\u001b[38;5;241;43m.\u001b[39;49m\u001b[43mget\u001b[49m\u001b[43m(\u001b[49m\u001b[38;5;124;43m\"\u001b[39;49m\u001b[38;5;124;43mstorage_options\u001b[39;49m\u001b[38;5;124;43m\"\u001b[39;49m\u001b[43m,\u001b[49m\u001b[43m \u001b[49m\u001b[38;5;28;43;01mNone\u001b[39;49;00m\u001b[43m)\u001b[49m\u001b[43m,\u001b[49m\n\u001b[1;32m   1670\u001b[0m \u001b[43m\u001b[49m\u001b[43m)\u001b[49m\n\u001b[1;32m   1671\u001b[0m \u001b[38;5;28;01massert\u001b[39;00m \u001b[38;5;28mself\u001b[39m\u001b[38;5;241m.\u001b[39mhandles \u001b[38;5;129;01mis\u001b[39;00m \u001b[38;5;129;01mnot\u001b[39;00m \u001b[38;5;28;01mNone\u001b[39;00m\n\u001b[1;32m   1672\u001b[0m f \u001b[38;5;241m=\u001b[39m \u001b[38;5;28mself\u001b[39m\u001b[38;5;241m.\u001b[39mhandles\u001b[38;5;241m.\u001b[39mhandle\n",
      "File \u001b[0;32m~/anaconda3/envs/dev/lib/python3.10/site-packages/pandas/io/common.py:859\u001b[0m, in \u001b[0;36mget_handle\u001b[0;34m(path_or_buf, mode, encoding, compression, memory_map, is_text, errors, storage_options)\u001b[0m\n\u001b[1;32m    854\u001b[0m \u001b[38;5;28;01melif\u001b[39;00m \u001b[38;5;28misinstance\u001b[39m(handle, \u001b[38;5;28mstr\u001b[39m):\n\u001b[1;32m    855\u001b[0m     \u001b[38;5;66;03m# Check whether the filename is to be opened in binary mode.\u001b[39;00m\n\u001b[1;32m    856\u001b[0m     \u001b[38;5;66;03m# Binary mode does not support 'encoding' and 'newline'.\u001b[39;00m\n\u001b[1;32m    857\u001b[0m     \u001b[38;5;28;01mif\u001b[39;00m ioargs\u001b[38;5;241m.\u001b[39mencoding \u001b[38;5;129;01mand\u001b[39;00m \u001b[38;5;124m\"\u001b[39m\u001b[38;5;124mb\u001b[39m\u001b[38;5;124m\"\u001b[39m \u001b[38;5;129;01mnot\u001b[39;00m \u001b[38;5;129;01min\u001b[39;00m ioargs\u001b[38;5;241m.\u001b[39mmode:\n\u001b[1;32m    858\u001b[0m         \u001b[38;5;66;03m# Encoding\u001b[39;00m\n\u001b[0;32m--> 859\u001b[0m         handle \u001b[38;5;241m=\u001b[39m \u001b[38;5;28;43mopen\u001b[39;49m\u001b[43m(\u001b[49m\n\u001b[1;32m    860\u001b[0m \u001b[43m            \u001b[49m\u001b[43mhandle\u001b[49m\u001b[43m,\u001b[49m\n\u001b[1;32m    861\u001b[0m \u001b[43m            \u001b[49m\u001b[43mioargs\u001b[49m\u001b[38;5;241;43m.\u001b[39;49m\u001b[43mmode\u001b[49m\u001b[43m,\u001b[49m\n\u001b[1;32m    862\u001b[0m \u001b[43m            \u001b[49m\u001b[43mencoding\u001b[49m\u001b[38;5;241;43m=\u001b[39;49m\u001b[43mioargs\u001b[49m\u001b[38;5;241;43m.\u001b[39;49m\u001b[43mencoding\u001b[49m\u001b[43m,\u001b[49m\n\u001b[1;32m    863\u001b[0m \u001b[43m            \u001b[49m\u001b[43merrors\u001b[49m\u001b[38;5;241;43m=\u001b[39;49m\u001b[43merrors\u001b[49m\u001b[43m,\u001b[49m\n\u001b[1;32m    864\u001b[0m \u001b[43m            \u001b[49m\u001b[43mnewline\u001b[49m\u001b[38;5;241;43m=\u001b[39;49m\u001b[38;5;124;43m\"\u001b[39;49m\u001b[38;5;124;43m\"\u001b[39;49m\u001b[43m,\u001b[49m\n\u001b[1;32m    865\u001b[0m \u001b[43m        \u001b[49m\u001b[43m)\u001b[49m\n\u001b[1;32m    866\u001b[0m     \u001b[38;5;28;01melse\u001b[39;00m:\n\u001b[1;32m    867\u001b[0m         \u001b[38;5;66;03m# Binary mode\u001b[39;00m\n\u001b[1;32m    868\u001b[0m         handle \u001b[38;5;241m=\u001b[39m \u001b[38;5;28mopen\u001b[39m(handle, ioargs\u001b[38;5;241m.\u001b[39mmode)\n",
      "\u001b[0;31mFileNotFoundError\u001b[0m: [Errno 2] No such file or directory: 'Resources/startercsv/all_video_games(cleaned).csv'"
     ]
    }
   ],
   "source": [
    "games_df = pd.read_csv(\"Resources/startercsv/all_video_games(cleaned).csv\", converters={'Platforms Info': literal_eval})\n",
    "games_df"
   ]
  },
  {
   "cell_type": "code",
   "execution_count": 5,
   "id": "eb999563",
   "metadata": {},
   "outputs": [
    {
     "ename": "NameError",
     "evalue": "name 'games_df' is not defined",
     "output_type": "error",
     "traceback": [
      "\u001b[0;31m---------------------------------------------------------------------------\u001b[0m",
      "\u001b[0;31mNameError\u001b[0m                                 Traceback (most recent call last)",
      "Cell \u001b[0;32mIn[5], line 1\u001b[0m\n\u001b[0;32m----> 1\u001b[0m \u001b[43mgames_df\u001b[49m\u001b[38;5;241m.\u001b[39minfo()\n",
      "\u001b[0;31mNameError\u001b[0m: name 'games_df' is not defined"
     ]
    }
   ],
   "source": [
    "games_df.info()"
   ]
  },
  {
   "cell_type": "code",
   "execution_count": null,
   "id": "e9120590",
   "metadata": {},
   "outputs": [],
   "source": [
    "games_df['Release Date'] = pd.to_datetime(games_df['Release Date'])\n",
    "games_df"
   ]
  },
  {
   "cell_type": "code",
   "execution_count": null,
   "id": "1e3bc018",
   "metadata": {},
   "outputs": [],
   "source": []
  },
  {
   "cell_type": "code",
   "execution_count": null,
   "id": "c4068b35",
   "metadata": {},
   "outputs": [],
   "source": [
    "games_df.info()"
   ]
  },
  {
   "cell_type": "code",
   "execution_count": null,
   "id": "44954db7",
   "metadata": {},
   "outputs": [],
   "source": [
    "games_df.count()"
   ]
  },
  {
   "cell_type": "code",
   "execution_count": null,
   "id": "077b1033",
   "metadata": {},
   "outputs": [],
   "source": [
    "games_df['Product Rating'].unique()"
   ]
  },
  {
   "cell_type": "code",
   "execution_count": null,
   "id": "1d4f6aa1",
   "metadata": {},
   "outputs": [],
   "source": [
    "print(games_df[games_df['Title'].isnull()])"
   ]
  },
  {
   "cell_type": "code",
   "execution_count": null,
   "id": "da67dac7",
   "metadata": {},
   "outputs": [],
   "source": [
    "games_df = games_df.dropna(subset=[\"Title\"])\n",
    "games_df = games_df.reset_index(drop=True)"
   ]
  },
  {
   "cell_type": "code",
   "execution_count": null,
   "id": "895416ee",
   "metadata": {},
   "outputs": [],
   "source": [
    "games_df.count()"
   ]
  },
  {
   "cell_type": "code",
   "execution_count": null,
   "id": "55560edd",
   "metadata": {},
   "outputs": [],
   "source": [
    "# Assigning 'Platforms Info to a variable'\n",
    "pinfo = games_df['Platforms Info']\n",
    "\n",
    "# Empty lists to store extracted data from 'Platform Info' column\n",
    "meanmeta = []\n",
    "platlist = []\n",
    "metascore = []\n",
    "metacount = []\n",
    "\n",
    "# Looping through list of games\n",
    "for game in pinfo:\n",
    "    \n",
    "    # Extracting platform names to a list\n",
    "    platform = ([x.get('Platform') for x in game])\n",
    "    platlist.append(platform)\n",
    "    \n",
    "    # Extracting scores to a list and converting to number\n",
    "    # Calculting average metascore across platforms\n",
    "    score = ([y.get('Platform Metascore') for y in game])\n",
    "    scorelist = []\n",
    "    avglist = []\n",
    "    meanvalue = []\n",
    "    for item in score:    \n",
    "        num = pd.to_numeric(item, errors='ignore')\n",
    "        # Appending to list that holds all values of metascore\n",
    "        scorelist.append(num)\n",
    "        \n",
    "        #Appending to list that holds only numeric values of metascores\n",
    "        if num == \"tbd\":\n",
    "            avglist = avglist\n",
    "        else:\n",
    "            avglist.append(num)\n",
    "            \n",
    "    # Calculating the average metascore per game        \n",
    "    if avglist == []:\n",
    "        meanvalue = 0\n",
    "    else:\n",
    "        meanvalue = sum(avglist)/len(avglist)\n",
    "        meanvalue = round(meanvalue,1)\n",
    "    meanmeta.append(meanvalue)\n",
    "    metascore.append(scorelist)\n",
    "    \n",
    "    # Extracting review counts from string, converting to number, adding to a list\n",
    "    counts = ([z.get('Platform Metascore Count') for z in game])\n",
    "    numlist = []\n",
    "    for item in counts:\n",
    "        num = [int(i) for i in item.split() if i.isdigit()]\n",
    "        newnum = num[0]\n",
    "        numlist.append(newnum)\n",
    "    metacount.append(numlist)\n",
    "    \n",
    "# Adding new columns to df\n",
    "games_df[\"Mean Metascore Across Platforms\"] = meanmeta\n",
    "games_df['Platform'] = platlist\n",
    "games_df['Metascore by Platform'] = metascore\n",
    "games_df['Count of Critic Reviews by Platform'] = metacount\n",
    "\n",
    "games_df\n"
   ]
  },
  {
   "cell_type": "code",
   "execution_count": null,
   "id": "a2ef4cb0",
   "metadata": {},
   "outputs": [],
   "source": [
    "games_df.columns.values.tolist()\n"
   ]
  },
  {
   "cell_type": "code",
   "execution_count": null,
   "id": "9a34da51",
   "metadata": {},
   "outputs": [],
   "source": [
    "# [nan, 'Rated E For Everyone', 'Rated T For Teen',\n",
    "#        'Rated E +10 For Everyone +10', 'Rated M For Mature',\n",
    "#        'Rated RP For Rate Pending', 'Rated AO For Adults Only'\n",
    "# Simplifying Product Rating\n",
    "games_df['Product Rating Simplified'] = ''\n",
    "\n",
    "\n",
    "games_df.loc[games_df['Product Rating'] == 'Rated E For Everyone', ['Product Rating Simplified']] = 'E'\n",
    "games_df.loc[games_df['Product Rating'] == 'Rated T For Teen', ['Product Rating Simplified']] = 'T'\n",
    "games_df.loc[games_df['Product Rating'] == 'Rated E +10 For Everyone +10', ['Product Rating Simplified']] = 'E+10'\n",
    "games_df.loc[games_df['Product Rating'] == 'Rated M For Mature', ['Product Rating Simplified']] = 'M'\n",
    "games_df.loc[games_df['Product Rating'] == 'Rated RP For Rate Pending', ['Product Rating Simplified']] = 'RP'\n",
    "games_df.loc[games_df['Product Rating'] == 'Rated AO For Adults Only', ['Product Rating Simplified']] = 'AO'\n",
    "\n",
    "games_df = games_df[['Title','Release Date','Developer','Publisher','Genres','Product Rating',\n",
    "             'Product Rating Simplified','User Score','User Ratings Count','Platforms Info',\n",
    "             'Mean Metascore Across Platforms','Platform','Metascore by Platform','Count of Critic Reviews by Platform']]"
   ]
  },
  {
   "cell_type": "code",
   "execution_count": null,
   "id": "04c8b2b6",
   "metadata": {},
   "outputs": [],
   "source": [
    "games_df"
   ]
  },
  {
   "cell_type": "code",
   "execution_count": null,
   "id": "f60a7c83",
   "metadata": {},
   "outputs": [],
   "source": [
    "# Finding Unique Platforms\n",
    "\n",
    "games = games_df['Platform']\n",
    "\n",
    "biglist = []\n",
    "for game in games:\n",
    "    for item in game:\n",
    "        biglist.append(item)\n",
    "        \n",
    "\n",
    "import operator as op\n",
    "def unique(list1):\n",
    "    # initialize list\n",
    "    unique_list = []\n",
    "    \n",
    "    # iterate over list\n",
    "    for x in list1:\n",
    "        # check if exists in unique_list or not\n",
    "        if op.countOf(unique_list, x) == 0:\n",
    "            unique_list.append(x)\n",
    "    # print list\n",
    "    for x in unique_list:\n",
    "        print(x)\n",
    "\n",
    "unique(biglist)"
   ]
  },
  {
   "cell_type": "code",
   "execution_count": null,
   "id": "853a6e63",
   "metadata": {},
   "outputs": [],
   "source": [
    "# unique Game Genres\n",
    "\n",
    "genres = games_df['Genres'].unique()\n",
    "genres"
   ]
  },
  {
   "cell_type": "code",
   "execution_count": null,
   "id": "1e137071",
   "metadata": {},
   "outputs": [],
   "source": [
    "games_df.info()"
   ]
  },
  {
   "cell_type": "code",
   "execution_count": null,
   "id": "40c000bd",
   "metadata": {},
   "outputs": [],
   "source": [
    "games_df.to_csv(\"Resources/games.csv\", index=False, header=True)"
   ]
  },
  {
   "cell_type": "code",
   "execution_count": null,
   "id": "fa624763",
   "metadata": {},
   "outputs": [],
   "source": [
    "# release date column to datetime\n",
    "games_df['Release Date']= pd.to_datetime(games_df['Release Date'])\n",
    "\n",
    "# get year from Release Date column\n",
    "games_df['Year']=games_df['Release Date'].dt.year\n",
    "\n",
    "# Drop rows with NaN values in User Score column\n",
    "games_df = games_df.dropna(subset=['User Score'])\n",
    "\n",
    "# Filter the dataset for time period (2023 to 2024)\n",
    "games_filtered = games_df[(games_df['Release Date'].dt.year >= 2023) & (games_df['Release Date'].dt.year <= 2024)]\n",
    "\n",
    "# Group by year and publisher and calculate average user score\n",
    "avg_scores_publisher_year = games_filtered.groupby(['Year', 'Publisher'])['User Score'].mean().reset_index()\n",
    "\n",
    "# Group by publisher and calculate average user score across all years\n",
    "avg_scores_publisher = avg_scores_publisher_year.groupby('Publisher')['User Score'].mean().reset_index()\n",
    "\n",
    "# Avg scroes by publisher\n",
    "avg_scores_publisher = avg_scores_publisher.sort_values(by='User Score', ascending=False)\n",
    "\n",
    "# Create bar graph\n",
    "plt.figure (figsize=(10,20)) \n",
    "\n",
    "bars = plt.barh(avg_scores_publisher['Publisher'],avg_scores_publisher['User Score'], color='lightblue')\n",
    "\n",
    "# Ttitle and labels\n",
    "plt.title('Average User Score Rating by Publisher (2023 - 2024)', fontsize=20)\n",
    "plt.xlabel('Average User Score', fontsize=16)\n",
    "plt.ylabel('Publisher', fontsize=16)\n",
    "\n",
    "# Add Values\n",
    "for bar in bars:\n",
    "    width = bar.get_width()\n",
    "    plt.text(width,bar.get_y()+ bar.get_height()/2, round(width, 2), ha='left', va='center', fontsize=7)\n",
    "\n",
    "# Display Chart and save figure\n",
    "plt.grid(axis='x') \n",
    "plt.tight_layout() \n",
    "plt.show()\n",
    "plt.savefig('avg_user_score.png', dpi=300) "
   ]
  },
  {
   "cell_type": "code",
   "execution_count": null,
   "id": "02e6afba",
   "metadata": {},
   "outputs": [],
   "source": [
    "games_df = games_df.copy()\n",
    "games_df['Release Date'] = pd.to_datetime(games_df['Release Date'])\n",
    "\n",
    "games_df['Year'] = games_df['Release Date'].dt.year\n",
    "\n",
    "# Group by year and publisher and count the number of releases\n",
    "release_yr_publisher = games_df.groupby(['Year', 'Publisher']).size().reset_index(name='Release Count')\n",
    "\n",
    "# Create trace for each publisher\n",
    "data = []\n",
    "for publisher in release_yr_publisher['Publisher'].unique():\n",
    "    publisher_data = release_yr_publisher[release_yr_publisher['Publisher'] == publisher]\n",
    "    trace = go.Bar(x=publisher_data['Year'],\n",
    "                   y=publisher_data['Release Count'],\n",
    "                   name=publisher)\n",
    "    data.append(trace)\n",
    "\n",
    "# Create layout\n",
    "layout = go.Layout(title='Game Releases by Publisher over Time',\n",
    "                   xaxis=dict(title='Year of Release'),\n",
    "                   yaxis=dict(title='Number of Releases'),\n",
    "                   barmode='stack')\n",
    "fig = go.Figure(data=data, layout=layout)\n",
    "fig.show()\n",
    "plt.savefig('release_publisher_ot.png') "
   ]
  },
  {
   "cell_type": "code",
   "execution_count": null,
   "id": "b78a1149",
   "metadata": {},
   "outputs": [],
   "source": [
    "genre_count_yr = games_df.groupby(['Year', 'Genres']).size().reset_index(name='Genre Count')\n",
    "\n",
    "# Sum the counts across all years for each genre\n",
    "genre_total_count = genre_count_yr.groupby('Genres')['Genre Count'].sum().reset_index()\n",
    "\n",
    "# Sort the genres based on their total counts in descending order\n",
    "top_10 = genre_total_count.nlargest(5, 'Genre Count')\n",
    "\n",
    "# Filter the original dataframe to include only the top 10 genres\n",
    "top_10_genre_by_year = genre_count_yr[genre_count_yr['Genres'].isin(top_10['Genres'])]\n",
    "\n",
    "# Create an interactive bar graph using Plotly\n",
    "fig = px.bar(top_10_genre_by_year, x='Year', y='Genre Count', color='Genres',\n",
    "             title='Count of Top 5 Genres Over Time',\n",
    "             labels={'Year': 'Year', 'Genre Count': 'Count of Genres', 'Genres': 'Genre'},\n",
    "             barmode='group') \n",
    "\n",
    "# Show the chart\n",
    "fig.show()"
   ]
  },
  {
   "cell_type": "code",
   "execution_count": null,
   "id": "b61abced",
   "metadata": {},
   "outputs": [],
   "source": [
    "filtered_data = games_df[(games_df['Year'] >= 1995) & (games_df['Year'] <= 2024)]\n",
    "\n",
    "# Group year and product rating\n",
    "product_rating_yr = filtered_data.groupby (['Year','Product Rating']).size().reset_index(name ='Rating Count')\n",
    "\n",
    "# Create graph - Line\n",
    "fig = go.Figure()\n",
    "\n",
    "for rating in product_rating_yr['Product Rating'].unique():\n",
    "    rating_data = product_rating_yr[product_rating_yr['Product Rating'] == rating]\n",
    "    fig.add_trace(go.Scatter(x=rating_data['Year'], y=rating_data['Rating Count'], mode='lines',name=rating))\n",
    "    \n",
    "# Layout\n",
    "fig.update_layout(title='product Rating Count by Year 1995 - 2024',\n",
    "    xaxis=dict(title='Year'),\n",
    "    yaxis=dict(title='Rating Count'))\n",
    "\n",
    "fig.show(renderer=\"png\")"
   ]
  },
  {
   "cell_type": "code",
   "execution_count": null,
   "id": "d7e9c5cb",
   "metadata": {},
   "outputs": [],
   "source": []
  }
 ],
 "metadata": {
  "kernelspec": {
   "display_name": "Python 3 (ipykernel)",
   "language": "python",
   "name": "python3"
  },
  "language_info": {
   "codemirror_mode": {
    "name": "ipython",
    "version": 3
   },
   "file_extension": ".py",
   "mimetype": "text/x-python",
   "name": "python",
   "nbconvert_exporter": "python",
   "pygments_lexer": "ipython3",
   "version": "3.10.13"
  }
 },
 "nbformat": 4,
 "nbformat_minor": 5
}
